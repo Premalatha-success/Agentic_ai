{
  "nbformat": 4,
  "nbformat_minor": 0,
  "metadata": {
    "colab": {
      "provenance": []
    },
    "kernelspec": {
      "name": "python3",
      "display_name": "Python 3"
    },
    "language_info": {
      "name": "python"
    }
  },
  "cells": [
    {
      "cell_type": "code",
      "execution_count": 27,
      "metadata": {
        "id": "PwBvj1mJafni"
      },
      "outputs": [],
      "source": [
        "import numpy as np\n",
        "import matplotlib.pyplot as plt\n",
        "from tensorflow.keras.datasets import fashion_mnist\n",
        "(x_train,y_train),(x_test,y_test)=fashion_mnist.load_data()"
      ]
    },
    {
      "cell_type": "code",
      "source": [
        "x_train.shape"
      ],
      "metadata": {
        "colab": {
          "base_uri": "https://localhost:8080/"
        },
        "id": "4k2CmB0Gb4lh",
        "outputId": "6fa66048-26f8-4869-d64b-a69ddf3d044e"
      },
      "execution_count": 28,
      "outputs": [
        {
          "output_type": "execute_result",
          "data": {
            "text/plain": [
              "(60000, 28, 28)"
            ]
          },
          "metadata": {},
          "execution_count": 28
        }
      ]
    },
    {
      "cell_type": "code",
      "source": [
        "x_test.shape"
      ],
      "metadata": {
        "colab": {
          "base_uri": "https://localhost:8080/"
        },
        "id": "PTAQJUc0cb3F",
        "outputId": "382e4f6c-2305-43e8-a768-479985bb8f65"
      },
      "execution_count": 29,
      "outputs": [
        {
          "output_type": "execute_result",
          "data": {
            "text/plain": [
              "(10000, 28, 28)"
            ]
          },
          "metadata": {},
          "execution_count": 29
        }
      ]
    },
    {
      "cell_type": "code",
      "source": [
        "x_train[100]"
      ],
      "metadata": {
        "colab": {
          "base_uri": "https://localhost:8080/",
          "height": 68
        },
        "id": "1njjPEh4clMO",
        "outputId": "9c63bca6-76c4-4e88-db8c-f561c1549836"
      },
      "execution_count": 30,
      "outputs": [
        {
          "output_type": "execute_result",
          "data": {
            "text/plain": [
              "array([[  0,   0,   0,   0,   0,   0,   0,   0,   0,   1,   0,   0,  18,\n",
              "        107, 119, 103,   9,   0,   0,   0,   0,   0,   0,   0,   0,   0,\n",
              "          0,   0],\n",
              "       [  0,   0,   0,   0,   0,   0,   0,   0,   0,   0,   0,  99, 155,\n",
              "        113,  61, 118, 173, 117,   0,   0,   3,   0,   0,   0,   0,   0,\n",
              "          0,   0],\n",
              "       [  0,   0,   0,   0,   0,   0,   0,   0,   1,   0, 110, 136,   0,\n",
              "          0,   0,   0,   0, 167, 159,   0,   0,   2,   0,   0,   0,   0,\n",
              "          0,   0],\n",
              "       [  0,   0,   0,   0,   0,   1,   0,   6,   0,  72, 147,   0,   0,\n",
              "          5,   0,   2,   0,   0, 174, 118,   0,   5,   0,   0,   0,   0,\n",
              "          0,   0],\n",
              "       [  0,   0,   0,   0,   0,   1,   5,   0,   0, 174,   4,   0,   4,\n",
              "          0,   0,   0,   0,   0,   0, 204,  44,   0,   4,   0,   0,   0,\n",
              "          0,   0],\n",
              "       [  0,   0,   0,   0,   0,   0,   8,   0, 125, 128,   0,   9,   0,\n",
              "          0,   0,   0,   0,   2,   0, 107, 152,   0,   6,   0,   0,   0,\n",
              "          0,   0],\n",
              "       [  0,   0,   0,   0,   0,   0,   0,   0, 184,   9,   0,   4,   0,\n",
              "          0,   0,   0,   0,   2,   0,   0, 190,   0,   0,   2,   0,   0,\n",
              "          0,   0],\n",
              "       [  0,   0,   0,   1,   0,   2,   0,  73, 158,   0,   0,   0,   0,\n",
              "          1,   0,   0,   0,   0,   4,   0, 157,  79,   0,   3,   1,   0,\n",
              "          0,   0],\n",
              "       [  0,   0,   2,   5,   1,   0,   0, 157,  98,   0,   2,   0,   0,\n",
              "          1,   0,   0,   0,   0,   5,   0, 121, 145,   0,   0,   0,   0,\n",
              "          0,   0],\n",
              "       [  0,   0,   0,   0,   0,   0,   0, 231,  84,   0,   2,   1,   1,\n",
              "          0,   0,   0,   0,   0,   1,   0,  92, 223,  16,   0,   7,   4,\n",
              "          1,   0],\n",
              "       [  0,   0,   0,   0,   0,   0,  38, 183,  81,   0,   0,   0,   2,\n",
              "          2,   1,   2,   1,   0,   1,   0, 120, 226,  57,   0,   0,   0,\n",
              "          0,   0],\n",
              "       [  0,   0, 173, 216, 193, 213, 183, 164, 167,  98,  16,   0,   0,\n",
              "          0,   0,   0,   0,   0,   0,   0, 107, 141, 111,  91,  90, 108,\n",
              "         50,   0],\n",
              "       [  0,   0, 185, 221, 217, 210, 202, 222, 200, 206, 202, 204, 109,\n",
              "         27,  12,  17,  61, 136, 180, 221, 202, 225, 208, 214, 223, 240,\n",
              "        162,   0],\n",
              "       [  0,   0, 183, 220, 205, 200, 193, 184, 189, 182, 173, 194, 215,\n",
              "        216, 205, 207, 207, 195, 185, 194, 194, 203, 212, 183, 193, 211,\n",
              "        153,   0],\n",
              "       [  0,   0, 190, 233, 203, 206, 214, 216, 195, 183, 176, 159, 175,\n",
              "        189, 202, 195, 186, 186, 182, 186, 195, 209, 235, 203, 202, 215,\n",
              "        136,   0],\n",
              "       [  0,   0, 180, 228, 201, 202, 188, 183, 178, 192, 186, 181, 181,\n",
              "        177, 204, 217, 175, 179, 184, 176, 166, 169, 175, 185, 152, 203,\n",
              "        107,   0],\n",
              "       [  0,   0, 167, 235, 200, 207, 207, 209, 207, 203, 198, 189, 182,\n",
              "        178, 186, 189, 178, 192, 197, 195, 192, 185, 184, 205, 187, 255,\n",
              "         61,   0],\n",
              "       [  0,   0, 152, 250, 208, 214, 209, 202, 200, 202, 205, 204, 200,\n",
              "        192, 198, 204, 195, 205, 206, 198, 199, 203, 214, 207, 179, 249,\n",
              "         55,   0],\n",
              "       [  0,   0, 126, 255, 211, 215, 210, 206, 203, 203, 203, 206, 204,\n",
              "        199, 206, 207, 200, 206, 201, 199, 202, 208, 215, 195, 174, 211,\n",
              "         15,   0],\n",
              "       [  0,   0, 107, 255, 212, 211, 210, 211, 208, 206, 206, 207, 208,\n",
              "        208, 217, 214, 205, 206, 204, 208, 211, 211, 220, 197, 182, 225,\n",
              "          0,   0],\n",
              "       [  0,   0,  63, 232, 211, 216, 212, 214, 212, 212, 214, 212, 211,\n",
              "        212, 223, 219, 210, 214, 213, 212, 211, 209, 217, 208, 168, 190,\n",
              "          0,   0],\n",
              "       [  0,   0,  14, 255, 218, 221, 215, 218, 218, 217, 215, 213, 211,\n",
              "        215, 228, 220, 216, 222, 217, 217, 216, 218, 212, 213, 189, 143,\n",
              "          0,   0],\n",
              "       [  0,   0,   0, 230, 227, 214, 217, 218, 216, 217, 217, 214, 216,\n",
              "        222, 226, 218, 218, 220, 219, 218, 217, 218, 217, 215, 216, 113,\n",
              "          0,   0],\n",
              "       [  0,   0,   0, 177, 233, 216, 223, 222, 213, 213, 215, 212, 220,\n",
              "        226, 221, 220, 221, 218, 222, 220, 220, 221, 217, 212, 219,  52,\n",
              "          0,   0],\n",
              "       [  0,   0,   0,  10, 223, 222, 220, 211, 213, 215, 220, 222, 226,\n",
              "        226, 221, 223, 222, 222, 221, 218, 220, 219, 220, 223, 174,   0,\n",
              "          0,   0],\n",
              "       [  0,   0,   0,   0, 126, 241, 208, 210, 214, 214, 216, 216, 220,\n",
              "        220, 214, 213, 212, 212, 210, 215, 217, 218, 215, 236,  42,   0,\n",
              "          1,   0],\n",
              "       [  0,   0,   0,   0,   0, 188, 237, 230, 233, 255, 255, 255, 255,\n",
              "        255, 255, 255, 255, 255, 255, 255, 231, 229, 239, 161,   0,   0,\n",
              "          0,   0],\n",
              "       [  0,   0,   0,   0,   0,   0,  63,  95, 108, 105, 100, 103, 104,\n",
              "        105, 102, 100,  98,  97,  96,  90,  80,  83,  60,   0,   0,   0,\n",
              "          0,   0]], dtype=uint8)"
            ],
            "text/html": [
              "<style>\n",
              "      .ndarray_repr .ndarray_raw_data {\n",
              "        display: none;\n",
              "      }\n",
              "      .ndarray_repr.show_array .ndarray_raw_data {\n",
              "        display: block;\n",
              "      }\n",
              "      .ndarray_repr.show_array .ndarray_image_preview {\n",
              "        display: none;\n",
              "      }\n",
              "      </style>\n",
              "      <div id=\"id-cbe54e4f-ac19-4b63-a9ee-6126dc695c44\" class=\"ndarray_repr\"><pre>ndarray (28, 28) <button style=\"padding: 0 2px;\">show data</button></pre><img src=\"data:image/png;base64,iVBORw0KGgoAAAANSUhEUgAAABwAAAAcCAAAAABXZoBIAAACJklEQVR4nF2Su2tUYRDFf/O9Npu4SczDFFqIiCCm016w8gEKYmNjY2fEQtBKe639A0JEsDKFlaLYGNIoRkVFgjGYkITEbF5u7u7de+83FpuH8VQz58w5DMwI2xCl5+q+tcf1HQazUynXH4bxrid3wPIfhFsPAHg6/K8FEAJnH4HHwOhd/B7Rw6jDtbr3g1tVK0At9z/n5bzFDN/cmwsvyrvjb7ZMBhAM5+br5AgQHdOXEGmJxknkythOlPDjDIW2xJgpnN8AEQXImb3YTcnJ9vixjwVRxYgR4JA9TporAs9OLPbNVO2r0bXt5YaOzCxrz/gHgZdH87TRtxRyMzK67gcvDB6vDqyG8v7n1xxErWXppF+p998Y2jTUkjmWyr/aa3UclCqrodP8btqpamclqVM0ymGgrm4VB0kWdT7LOq2n1nXgm/PJsv3ZPn1yFgd/Shp6TcxDPZWVdVvxHd2p9plTt3Gw3tUWsjSaUsgbIYR2abiOjrTRbOJg3lsRVxCtK5XESybWSy2b/I6DKpLjTUScKxcRW7J409a5joMvi+pzI5ioEvLcqWosOmanwMHEwIZVi0ZR64sQMtQ0ff8nMLCxUE4NESO+FKOJRgRvDs607vkumOCKPEbnMmOjNdZS2LcgQPtXjXVjvHFkRtHCqNiJyy1nMtxbU9G82WymSZJsFoVmlXvI1o1eV+cXdRcLc6sjrZ8A4PThSpFZkSJG1WZiF8cA/gKlefUNDjNR0gAAAABJRU5ErkJggg==\" class=\"ndarray_image_preview\" /><pre class=\"ndarray_raw_data\">array([[  0,   0,   0,   0,   0,   0,   0,   0,   0,   1,   0,   0,  18,\n",
              "        107, 119, 103,   9,   0,   0,   0,   0,   0,   0,   0,   0,   0,\n",
              "          0,   0],\n",
              "       [  0,   0,   0,   0,   0,   0,   0,   0,   0,   0,   0,  99, 155,\n",
              "        113,  61, 118, 173, 117,   0,   0,   3,   0,   0,   0,   0,   0,\n",
              "          0,   0],\n",
              "       [  0,   0,   0,   0,   0,   0,   0,   0,   1,   0, 110, 136,   0,\n",
              "          0,   0,   0,   0, 167, 159,   0,   0,   2,   0,   0,   0,   0,\n",
              "          0,   0],\n",
              "       [  0,   0,   0,   0,   0,   1,   0,   6,   0,  72, 147,   0,   0,\n",
              "          5,   0,   2,   0,   0, 174, 118,   0,   5,   0,   0,   0,   0,\n",
              "          0,   0],\n",
              "       [  0,   0,   0,   0,   0,   1,   5,   0,   0, 174,   4,   0,   4,\n",
              "          0,   0,   0,   0,   0,   0, 204,  44,   0,   4,   0,   0,   0,\n",
              "          0,   0],\n",
              "       [  0,   0,   0,   0,   0,   0,   8,   0, 125, 128,   0,   9,   0,\n",
              "          0,   0,   0,   0,   2,   0, 107, 152,   0,   6,   0,   0,   0,\n",
              "          0,   0],\n",
              "       [  0,   0,   0,   0,   0,   0,   0,   0, 184,   9,   0,   4,   0,\n",
              "          0,   0,   0,   0,   2,   0,   0, 190,   0,   0,   2,   0,   0,\n",
              "          0,   0],\n",
              "       [  0,   0,   0,   1,   0,   2,   0,  73, 158,   0,   0,   0,   0,\n",
              "          1,   0,   0,   0,   0,   4,   0, 157,  79,   0,   3,   1,   0,\n",
              "          0,   0],\n",
              "       [  0,   0,   2,   5,   1,   0,   0, 157,  98,   0,   2,   0,   0,\n",
              "          1,   0,   0,   0,   0,   5,   0, 121, 145,   0,   0,   0,   0,\n",
              "          0,   0],\n",
              "       [  0,   0,   0,   0,   0,   0,   0, 231,  84,   0,   2,   1,   1,\n",
              "          0,   0,   0,   0,   0,   1,   0,  92, 223,  16,   0,   7,   4,\n",
              "          1,   0],\n",
              "       [  0,   0,   0,   0,   0,   0,  38, 183,  81,   0,   0,   0,   2,\n",
              "          2,   1,   2,   1,   0,   1,   0, 120, 226,  57,   0,   0,   0,\n",
              "          0,   0],\n",
              "       [  0,   0, 173, 216, 193, 213, 183, 164, 167,  98,  16,   0,   0,\n",
              "          0,   0,   0,   0,   0,   0,   0, 107, 141, 111,  91,  90, 108,\n",
              "         50,   0],\n",
              "       [  0,   0, 185, 221, 217, 210, 202, 222, 200, 206, 202, 204, 109,\n",
              "         27,  12,  17,  61, 136, 180, 221, 202, 225, 208, 214, 223, 240,\n",
              "        162,   0],\n",
              "       [  0,   0, 183, 220, 205, 200, 193, 184, 189, 182, 173, 194, 215,\n",
              "        216, 205, 207, 207, 195, 185, 194, 194, 203, 212, 183, 193, 211,\n",
              "        153,   0],\n",
              "       [  0,   0, 190, 233, 203, 206, 214, 216, 195, 183, 176, 159, 175,\n",
              "        189, 202, 195, 186, 186, 182, 186, 195, 209, 235, 203, 202, 215,\n",
              "        136,   0],\n",
              "       [  0,   0, 180, 228, 201, 202, 188, 183, 178, 192, 186, 181, 181,\n",
              "        177, 204, 217, 175, 179, 184, 176, 166, 169, 175, 185, 152, 203,\n",
              "        107,   0],\n",
              "       [  0,   0, 167, 235, 200, 207, 207, 209, 207, 203, 198, 189, 182,\n",
              "        178, 186, 189, 178, 192, 197, 195, 192, 185, 184, 205, 187, 255,\n",
              "         61,   0],\n",
              "       [  0,   0, 152, 250, 208, 214, 209, 202, 200, 202, 205, 204, 200,\n",
              "        192, 198, 204, 195, 205, 206, 198, 199, 203, 214, 207, 179, 249,\n",
              "         55,   0],\n",
              "       [  0,   0, 126, 255, 211, 215, 210, 206, 203, 203, 203, 206, 204,\n",
              "        199, 206, 207, 200, 206, 201, 199, 202, 208, 215, 195, 174, 211,\n",
              "         15,   0],\n",
              "       [  0,   0, 107, 255, 212, 211, 210, 211, 208, 206, 206, 207, 208,\n",
              "        208, 217, 214, 205, 206, 204, 208, 211, 211, 220, 197, 182, 225,\n",
              "          0,   0],\n",
              "       [  0,   0,  63, 232, 211, 216, 212, 214, 212, 212, 214, 212, 211,\n",
              "        212, 223, 219, 210, 214, 213, 212, 211, 209, 217, 208, 168, 190,\n",
              "          0,   0],\n",
              "       [  0,   0,  14, 255, 218, 221, 215, 218, 218, 217, 215, 213, 211,\n",
              "        215, 228, 220, 216, 222, 217, 217, 216, 218, 212, 213, 189, 143,\n",
              "          0,   0],\n",
              "       [  0,   0,   0, 230, 227, 214, 217, 218, 216, 217, 217, 214, 216,\n",
              "        222, 226, 218, 218, 220, 219, 218, 217, 218, 217, 215, 216, 113,\n",
              "          0,   0],\n",
              "       [  0,   0,   0, 177, 233, 216, 223, 222, 213, 213, 215, 212, 220,\n",
              "        226, 221, 220, 221, 218, 222, 220, 220, 221, 217, 212, 219,  52,\n",
              "          0,   0],\n",
              "       [  0,   0,   0,  10, 223, 222, 220, 211, 213, 215, 220, 222, 226,\n",
              "        226, 221, 223, 222, 222, 221, 218, 220, 219, 220, 223, 174,   0,\n",
              "          0,   0],\n",
              "       [  0,   0,   0,   0, 126, 241, 208, 210, 214, 214, 216, 216, 220,\n",
              "        220, 214, 213, 212, 212, 210, 215, 217, 218, 215, 236,  42,   0,\n",
              "          1,   0],\n",
              "       [  0,   0,   0,   0,   0, 188, 237, 230, 233, 255, 255, 255, 255,\n",
              "        255, 255, 255, 255, 255, 255, 255, 231, 229, 239, 161,   0,   0,\n",
              "          0,   0],\n",
              "       [  0,   0,   0,   0,   0,   0,  63,  95, 108, 105, 100, 103, 104,\n",
              "        105, 102, 100,  98,  97,  96,  90,  80,  83,  60,   0,   0,   0,\n",
              "          0,   0]], dtype=uint8)</pre></div><script>\n",
              "      (() => {\n",
              "      const titles = ['show data', 'hide data'];\n",
              "      let index = 0\n",
              "      document.querySelector('#id-cbe54e4f-ac19-4b63-a9ee-6126dc695c44 button').onclick = (e) => {\n",
              "        document.querySelector('#id-cbe54e4f-ac19-4b63-a9ee-6126dc695c44').classList.toggle('show_array');\n",
              "        index = (++index) % 2;\n",
              "        document.querySelector('#id-cbe54e4f-ac19-4b63-a9ee-6126dc695c44 button').textContent = titles[index];\n",
              "        e.preventDefault();\n",
              "        e.stopPropagation();\n",
              "      }\n",
              "      })();\n",
              "    </script>"
            ]
          },
          "metadata": {},
          "execution_count": 30
        }
      ]
    },
    {
      "cell_type": "code",
      "source": [
        "y_train[100]"
      ],
      "metadata": {
        "colab": {
          "base_uri": "https://localhost:8080/"
        },
        "id": "4BMdgoMkc7is",
        "outputId": "dff69c90-c499-4ed7-d49b-697a080c9781"
      },
      "execution_count": 31,
      "outputs": [
        {
          "output_type": "execute_result",
          "data": {
            "text/plain": [
              "np.uint8(8)"
            ]
          },
          "metadata": {},
          "execution_count": 31
        }
      ]
    },
    {
      "cell_type": "markdown",
      "source": [
        "https://i.pinimg.com/originals/4a/af/43/4aaf431a6acd2383c77204e956645895.jpg"
      ],
      "metadata": {
        "id": "MBrLEaW8e1LN"
      }
    },
    {
      "cell_type": "code",
      "source": [
        "from tensorflow.keras.models import Sequential\n",
        "from tensorflow.keras.layers import Dense,Activation,Flatten"
      ],
      "metadata": {
        "id": "r53UdOpYc--9"
      },
      "execution_count": 32,
      "outputs": []
    },
    {
      "cell_type": "code",
      "source": [
        "model=Sequential()"
      ],
      "metadata": {
        "id": "cMG1IpSig6c3"
      },
      "execution_count": 33,
      "outputs": []
    },
    {
      "cell_type": "code",
      "source": [
        "model.add(Flatten(input_shape=[28,28]))\n",
        "model.add(Dense(200,activation='relu')) #hidden layer\n",
        "model.add(Dense(10,activation='softmax')) #output"
      ],
      "metadata": {
        "id": "vVTNhiElg97R"
      },
      "execution_count": 34,
      "outputs": []
    },
    {
      "cell_type": "code",
      "source": [
        "model.compile(optimizer=\"adam\",loss=\"sparse_categorical_crossentropy\",metrics=[\"accuracy\"])"
      ],
      "metadata": {
        "id": "9eI-qCZ4ioRm"
      },
      "execution_count": 35,
      "outputs": []
    },
    {
      "cell_type": "code",
      "source": [
        "model.fit(x_train,y_train,epochs=20)"
      ],
      "metadata": {
        "colab": {
          "base_uri": "https://localhost:8080/"
        },
        "id": "_EaYauqlhlH0",
        "outputId": "dc9bf2db-7986-4e8d-e117-49add7bfaf49"
      },
      "execution_count": null,
      "outputs": [
        {
          "output_type": "stream",
          "name": "stdout",
          "text": [
            "Epoch 1/20\n",
            "\u001b[1m1875/1875\u001b[0m \u001b[32m━━━━━━━━━━━━━━━━━━━━\u001b[0m\u001b[37m\u001b[0m \u001b[1m8s\u001b[0m 4ms/step - accuracy: 0.6992 - loss: 11.7799\n",
            "Epoch 2/20\n",
            "\u001b[1m1875/1875\u001b[0m \u001b[32m━━━━━━━━━━━━━━━━━━━━\u001b[0m\u001b[37m\u001b[0m \u001b[1m7s\u001b[0m 4ms/step - accuracy: 0.7856 - loss: 0.6317\n",
            "Epoch 3/20\n",
            "\u001b[1m1875/1875\u001b[0m \u001b[32m━━━━━━━━━━━━━━━━━━━━\u001b[0m\u001b[37m\u001b[0m \u001b[1m7s\u001b[0m 4ms/step - accuracy: 0.8177 - loss: 0.5317\n",
            "Epoch 4/20\n",
            "\u001b[1m1875/1875\u001b[0m \u001b[32m━━━━━━━━━━━━━━━━━━━━\u001b[0m\u001b[37m\u001b[0m \u001b[1m7s\u001b[0m 4ms/step - accuracy: 0.8315 - loss: 0.4882\n",
            "Epoch 5/20\n",
            "\u001b[1m1875/1875\u001b[0m \u001b[32m━━━━━━━━━━━━━━━━━━━━\u001b[0m\u001b[37m\u001b[0m \u001b[1m6s\u001b[0m 3ms/step - accuracy: 0.8352 - loss: 0.4837\n",
            "Epoch 6/20\n",
            "\u001b[1m1875/1875\u001b[0m \u001b[32m━━━━━━━━━━━━━━━━━━━━\u001b[0m\u001b[37m\u001b[0m \u001b[1m7s\u001b[0m 4ms/step - accuracy: 0.8395 - loss: 0.4708\n",
            "Epoch 7/20\n",
            "\u001b[1m1875/1875\u001b[0m \u001b[32m━━━━━━━━━━━━━━━━━━━━\u001b[0m\u001b[37m\u001b[0m \u001b[1m6s\u001b[0m 3ms/step - accuracy: 0.8411 - loss: 0.4660\n",
            "Epoch 8/20\n",
            "\u001b[1m1875/1875\u001b[0m \u001b[32m━━━━━━━━━━━━━━━━━━━━\u001b[0m\u001b[37m\u001b[0m \u001b[1m7s\u001b[0m 4ms/step - accuracy: 0.8473 - loss: 0.4488\n",
            "Epoch 9/20\n",
            "\u001b[1m1875/1875\u001b[0m \u001b[32m━━━━━━━━━━━━━━━━━━━━\u001b[0m\u001b[37m\u001b[0m \u001b[1m6s\u001b[0m 3ms/step - accuracy: 0.8486 - loss: 0.4474\n",
            "Epoch 10/20\n",
            "\u001b[1m1875/1875\u001b[0m \u001b[32m━━━━━━━━━━━━━━━━━━━━\u001b[0m\u001b[37m\u001b[0m \u001b[1m7s\u001b[0m 4ms/step - accuracy: 0.8502 - loss: 0.4345\n",
            "Epoch 11/20\n",
            "\u001b[1m1875/1875\u001b[0m \u001b[32m━━━━━━━━━━━━━━━━━━━━\u001b[0m\u001b[37m\u001b[0m \u001b[1m6s\u001b[0m 3ms/step - accuracy: 0.8478 - loss: 0.4440\n",
            "Epoch 12/20\n",
            "\u001b[1m1875/1875\u001b[0m \u001b[32m━━━━━━━━━━━━━━━━━━━━\u001b[0m\u001b[37m\u001b[0m \u001b[1m7s\u001b[0m 4ms/step - accuracy: 0.8540 - loss: 0.4311\n",
            "Epoch 13/20\n",
            "\u001b[1m1875/1875\u001b[0m \u001b[32m━━━━━━━━━━━━━━━━━━━━\u001b[0m\u001b[37m\u001b[0m \u001b[1m6s\u001b[0m 3ms/step - accuracy: 0.8515 - loss: 0.4369\n",
            "Epoch 14/20\n",
            "\u001b[1m1875/1875\u001b[0m \u001b[32m━━━━━━━━━━━━━━━━━━━━\u001b[0m\u001b[37m\u001b[0m \u001b[1m7s\u001b[0m 4ms/step - accuracy: 0.8516 - loss: 0.4408\n",
            "Epoch 15/20\n",
            "\u001b[1m1875/1875\u001b[0m \u001b[32m━━━━━━━━━━━━━━━━━━━━\u001b[0m\u001b[37m\u001b[0m \u001b[1m6s\u001b[0m 3ms/step - accuracy: 0.8527 - loss: 0.4310\n",
            "Epoch 16/20\n",
            "\u001b[1m1875/1875\u001b[0m \u001b[32m━━━━━━━━━━━━━━━━━━━━\u001b[0m\u001b[37m\u001b[0m \u001b[1m7s\u001b[0m 4ms/step - accuracy: 0.8566 - loss: 0.4165\n",
            "Epoch 17/20\n",
            "\u001b[1m1875/1875\u001b[0m \u001b[32m━━━━━━━━━━━━━━━━━━━━\u001b[0m\u001b[37m\u001b[0m \u001b[1m7s\u001b[0m 4ms/step - accuracy: 0.8521 - loss: 0.4346\n",
            "Epoch 18/20\n",
            "\u001b[1m1425/1875\u001b[0m \u001b[32m━━━━━━━━━━━━━━━\u001b[0m\u001b[37m━━━━━\u001b[0m \u001b[1m1s\u001b[0m 3ms/step - accuracy: 0.8532 - loss: 0.4293"
          ]
        }
      ]
    },
    {
      "cell_type": "code",
      "source": [],
      "metadata": {
        "id": "vut3UOEfieY-"
      },
      "execution_count": null,
      "outputs": []
    }
  ]
}